{
 "cells": [
  {
   "cell_type": "code",
   "execution_count": 9,
   "metadata": {},
   "outputs": [],
   "source": [
    "import numpy as np\n",
    "import matplotlib.image as mpimg # for reading in images\n",
    "import matplotlib.pyplot as plt\n",
    "import cv2 # computer vision library\n",
    "\n",
    "#pop up image in an interative window\n",
    "%matplotlib qt "
   ]
  },
  {
   "cell_type": "code",
   "execution_count": 12,
   "metadata": {},
   "outputs": [
    {
     "ename": "SyntaxError",
     "evalue": "(unicode error) 'unicodeescape' codec can't decode bytes in position 14-18: truncated \\UXXXXXXXX escape (81674533.py, line 2)",
     "output_type": "error",
     "traceback": [
      "\u001b[1;36m  Cell \u001b[1;32mIn[12], line 2\u001b[1;36m\u001b[0m\n\u001b[1;33m    image = mpimg.imread('D:\\Python code\\Udacity - Computer Vision\\01_Introduction_to_Computer_Vision\\01_04_Image_Representation_&_Classification\\images\\waymo_car.jpg')\u001b[0m\n\u001b[1;37m                                                                                                                                                                       ^\u001b[0m\n\u001b[1;31mSyntaxError\u001b[0m\u001b[1;31m:\u001b[0m (unicode error) 'unicodeescape' codec can't decode bytes in position 14-18: truncated \\UXXXXXXXX escape\n"
     ]
    }
   ],
   "source": [
    "# Read in the image\n",
    "image = mpimg.imread('D:\\Python code\\Udacity - Computer Vision\\01_Introduction_to_Computer_Vision\\01_04_Image_Representation_&_Classification\\images\\waymo_car.jpg')"
   ]
  }
 ],
 "metadata": {
  "kernelspec": {
   "display_name": "Python 3",
   "language": "python",
   "name": "python3"
  },
  "language_info": {
   "codemirror_mode": {
    "name": "ipython",
    "version": 3
   },
   "file_extension": ".py",
   "mimetype": "text/x-python",
   "name": "python",
   "nbconvert_exporter": "python",
   "pygments_lexer": "ipython3",
   "version": "3.11.7"
  }
 },
 "nbformat": 4,
 "nbformat_minor": 2
}
